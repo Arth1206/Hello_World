{
  "nbformat": 4,
  "nbformat_minor": 0,
  "metadata": {
    "colab": {
      "name": "Unet_neil.ipynb",
      "version": "0.3.2",
      "provenance": [],
      "collapsed_sections": [],
      "include_colab_link": true
    },
    "kernelspec": {
      "name": "python3",
      "display_name": "Python 3"
    },
    "accelerator": "GPU"
  },
  "cells": [
    {
      "cell_type": "markdown",
      "metadata": {
        "id": "view-in-github",
        "colab_type": "text"
      },
      "source": [
        "<a href=\"https://colab.research.google.com/github/Arth1206/Hello_World/blob/master/Unet_neil.ipynb\" target=\"_parent\"><img src=\"https://colab.research.google.com/assets/colab-badge.svg\" alt=\"Open In Colab\"/></a>"
      ]
    },
    {
      "metadata": {
        "id": "e08lxWKoSd1x",
        "colab_type": "code",
        "colab": {}
      },
      "cell_type": "code",
      "source": [
        "import numpy as np\n",
        "import tensorflow as tf\n",
        "import pandas as pd\n",
        "from matplotlib.pyplot import imshow\n",
        "from scipy.ndimage import rotate\n",
        "import glob\n",
        "\n",
        "import matplotlib.pyplot as plt\n",
        "%matplotlib inline\n",
        "import os\n",
        "os.environ[\"CUDA_VISIBLE_DEVICES\"]=\"0\" #for training on gpu\n",
        "from tensorflow.examples.tutorials.mnist import input_data"
      ],
      "execution_count": 0,
      "outputs": []
    },
    {
      "metadata": {
        "id": "j4LGwh0sTf1a",
        "colab_type": "code",
        "outputId": "a1e1f584-d40d-47e3-b1be-ec7cd0fab560",
        "colab": {
          "base_uri": "https://localhost:8080/",
          "height": 34
        }
      },
      "cell_type": "code",
      "source": [
        "from google.colab import drive\n",
        "drive.mount('/content/gdrive')"
      ],
      "execution_count": 2,
      "outputs": [
        {
          "output_type": "stream",
          "text": [
            "Drive already mounted at /content/gdrive; to attempt to forcibly remount, call drive.mount(\"/content/gdrive\", force_remount=True).\n"
          ],
          "name": "stdout"
        }
      ]
    },
    {
      "metadata": {
        "id": "-0wMazYMXPk5",
        "colab_type": "code",
        "colab": {}
      },
      "cell_type": "code",
      "source": [
        "train_x = np.load('gdrive/My Drive/Google Colab/Codes/Data/train_x.npy')\n",
        "train_y = np.load('gdrive/My Drive/Google Colab/Codes/Data/train_y.npy')\n",
        "\n",
        "test_x = np.load('gdrive/My Drive/Google Colab/Codes/Data/test_x.npy')\n",
        "test_y = np.load('gdrive/My Drive/Google Colab/Codes/Data/test_y.npy')"
      ],
      "execution_count": 0,
      "outputs": []
    },
    {
      "metadata": {
        "id": "YrTGfnipVO_p",
        "colab_type": "code",
        "outputId": "47a051e9-f2c6-4f14-bab7-63df40fdff19",
        "colab": {
          "base_uri": "https://localhost:8080/",
          "height": 353
        }
      },
      "cell_type": "code",
      "source": [
        "print(train_y.shape)\n",
        "print(train_x.shape)\n",
        "print(test_y.shape)\n",
        "print(test_x.shape)\n",
        "%matplotlib inline\n",
        "imshow(train_y[10,:,:,1])"
      ],
      "execution_count": 4,
      "outputs": [
        {
          "output_type": "stream",
          "text": [
            "(4504, 128, 128, 3)\n",
            "(4504, 128, 128, 3)\n",
            "(90, 128, 128, 3)\n",
            "(90, 128, 128, 3)\n"
          ],
          "name": "stdout"
        },
        {
          "output_type": "execute_result",
          "data": {
            "text/plain": [
              "<matplotlib.image.AxesImage at 0x7f9cb9d05588>"
            ]
          },
          "metadata": {
            "tags": []
          },
          "execution_count": 4
        },
        {
          "output_type": "display_data",
          "data": {
            "image/png": "[encoded data removed]",
            "text/plain": [
              "<Figure size 432x288 with 1 Axes>"
            ]
          },
          "metadata": {
            "tags": []
          }
        }
      ]
    },
    {
      "metadata": {
        "id": "jyi6dBTgiDDj",
        "colab_type": "code",
        "colab": {}
      },
      "cell_type": "code",
      "source": [
        "train_x_min = train_x.min(axis=(0, 1, 2), keepdims=True)\n",
        "train_x_max = train_x.max(axis=(0, 1, 2), keepdims=True)\n",
        "train_y_min = train_y.min(axis=(0, 1, 2), keepdims=True)\n",
        "train_y_max = train_y.max(axis=(0, 1, 2), keepdims=True)"
      ],
      "execution_count": 0,
      "outputs": []
    },
    {
      "metadata": {
        "id": "AyuTCKwliNu2",
        "colab_type": "code",
        "outputId": "556ee901-5c13-4e26-ed06-3827a3f7f81e",
        "colab": {
          "base_uri": "https://localhost:8080/",
          "height": 34
        }
      },
      "cell_type": "code",
      "source": [
        "train_x_min.shape, train_y_min.shape"
      ],
      "execution_count": 6,
      "outputs": [
        {
          "output_type": "execute_result",
          "data": {
            "text/plain": [
              "((1, 1, 1, 3), (1, 1, 1, 3))"
            ]
          },
          "metadata": {
            "tags": []
          },
          "execution_count": 6
        }
      ]
    },
    {
      "metadata": {
        "id": "wTYIocVIhi7v",
        "colab_type": "code",
        "colab": {}
      },
      "cell_type": "code",
      "source": [
        "train_x_norm = (train_x - train_x_min)/(train_x_max - train_x_min)\n",
        "train_y_norm = (train_y - train_y_min)/(train_y_max - train_y_min)\n",
        "\n",
        "test_x_norm = (test_x - train_x_min)/(train_x_max - train_x_min)\n",
        "test_y_norm = (test_y - train_y_min)/(train_y_max - train_y_min)"
      ],
      "execution_count": 0,
      "outputs": []
    },
    {
      "metadata": {
        "id": "HosIgcH2i9vb",
        "colab_type": "code",
        "outputId": "9abd6976-5d5d-40dd-da22-67cef6aaaad1",
        "colab": {
          "base_uri": "https://localhost:8080/",
          "height": 285
        }
      },
      "cell_type": "code",
      "source": [
        "%matplotlib inline\n",
        "imshow(train_y_norm[10,:,:,1])"
      ],
      "execution_count": 8,
      "outputs": [
        {
          "output_type": "execute_result",
          "data": {
            "text/plain": [
              "<matplotlib.image.AxesImage at 0x7f9cb7165cc0>"
            ]
          },
          "metadata": {
            "tags": []
          },
          "execution_count": 8
        },
        {
          "output_type": "display_data",
          "data": {
            "image/png": "[encoded data removed]",
            "text/plain": [
              "<Figure size 432x288 with 1 Axes>"
            ]
          },
          "metadata": {
            "tags": []
          }
        }
      ]
    },
    {
      "metadata": {
        "id": "ye75-JCsVr12",
        "colab_type": "code",
        "colab": {}
      },
      "cell_type": "code",
      "source": [
        "training_iters = 5000\n",
        "batch_size = 10"
      ],
      "execution_count": 0,
      "outputs": []
    },
    {
      "metadata": {
        "id": "ooKp1klaVr6V",
        "colab_type": "code",
        "colab": {}
      },
      "cell_type": "code",
      "source": [
        "is_training = tf.placeholder(tf.bool, name=\"is_training\")\n",
        "keep_prob = tf.placeholder(tf.float32)\n",
        "x = tf.placeholder(tf.float32, [None, 128, 128, 3])\n",
        "y = tf.placeholder(tf.float32, [None, 128, 128, 3])\n",
        "lr = tf.placeholder(tf.float32)"
      ],
      "execution_count": 0,
      "outputs": []
    },
    {
      "metadata": {
        "id": "IshzIcTZKM_x",
        "colab_type": "code",
        "outputId": "caca6780-9e2b-4652-92c5-0509970bc105",
        "colab": {
          "base_uri": "https://localhost:8080/",
          "height": 108
        }
      },
      "cell_type": "code",
      "source": [
        "weights = {\n",
        "    \n",
        "    'w1': tf.get_variable('W0', shape=(4,4,3,64), initializer=tf.contrib.layers.xavier_initializer()), \n",
        "    'w2': tf.get_variable('W1', shape=(4,4,64,128), initializer=tf.contrib.layers.xavier_initializer()), \n",
        "    'w2b': tf.get_variable('W2', shape=(4,4,128,128), initializer=tf.contrib.layers.xavier_initializer()), \n",
        "    'w3': tf.get_variable('W3', shape=(4,4,128,256), initializer=tf.contrib.layers.xavier_initializer()),\n",
        "    'w4': tf.get_variable('W4', shape=(2,2,256,512), initializer=tf.contrib.layers.xavier_initializer()),\n",
        "    'w5': tf.get_variable('W5', shape=(2,2,512,512), initializer=tf.contrib.layers.xavier_initializer()),\n",
        "    'w6': tf.get_variable('W6', shape=(2,2,512,512), initializer=tf.contrib.layers.xavier_initializer()),\n",
        "    \n",
        "    'dw6': tf.get_variable('DW6', shape=(1,1,512,512), initializer=tf.contrib.layers.xavier_initializer()),\n",
        "    'dw5': tf.get_variable('DW5', shape=(1,1,1024,512), initializer=tf.contrib.layers.xavier_initializer()),\n",
        "    'dw4': tf.get_variable('DW4', shape=(1,1,1024,256), initializer=tf.contrib.layers.xavier_initializer()),\n",
        "    'dw3': tf.get_variable('DW3', shape=(3,3,512,128), initializer=tf.contrib.layers.xavier_initializer()),\n",
        "    'dw2b': tf.get_variable('DW2', shape=(3,3,256,128), initializer=tf.contrib.layers.xavier_initializer()),\n",
        "    'dw2': tf.get_variable('DW1', shape=(3,3,256,64), initializer=tf.contrib.layers.xavier_initializer()),\n",
        "    'dw1': tf.get_variable('DW0', shape=(4,4,3,128), initializer=tf.contrib.layers.xavier_initializer()),\n",
        "}\n",
        "\n",
        "biases = {\n",
        "    \n",
        "    'b1': tf.get_variable('B0', shape=(64), initializer=tf.contrib.layers.xavier_initializer()),\n",
        "    'b2': tf.get_variable('B1', shape=(128), initializer=tf.contrib.layers.xavier_initializer()),\n",
        "    'b2b': tf.get_variable('B2', shape=(128), initializer=tf.contrib.layers.xavier_initializer()),\n",
        "    'b3': tf.get_variable('B3', shape=(256), initializer=tf.contrib.layers.xavier_initializer()),\n",
        "    'b4': tf.get_variable('B4', shape=(512), initializer=tf.contrib.layers.xavier_initializer()),\n",
        "    'b5': tf.get_variable('B5', shape=(512), initializer=tf.contrib.layers.xavier_initializer()),\n",
        "    'b6': tf.get_variable('B6', shape=(512), initializer=tf.contrib.layers.xavier_initializer()),\n",
        "    \n",
        "    'db6': tf.get_variable('DB6', shape=(512), initializer=tf.contrib.layers.xavier_initializer()),\n",
        "    'db5': tf.get_variable('DB5', shape=(512), initializer=tf.contrib.layers.xavier_initializer()),\n",
        "    'db4': tf.get_variable('DB4', shape=(256), initializer=tf.contrib.layers.xavier_initializer()),\n",
        "    'db3': tf.get_variable('DB3', shape=(128), initializer=tf.contrib.layers.xavier_initializer()),\n",
        "    'db2b': tf.get_variable('DB2', shape=(128), initializer=tf.contrib.layers.xavier_initializer()),\n",
        "    'db2': tf.get_variable('DB1', shape=(64), initializer=tf.contrib.layers.xavier_initializer()),\n",
        "    'db1': tf.get_variable('DB0', shape=(3), initializer=tf.contrib.layers.xavier_initializer()),\n",
        "}"
      ],
      "execution_count": 11,
      "outputs": [
        {
          "output_type": "stream",
          "text": [
            "WARNING:tensorflow:From /usr/local/lib/python3.6/dist-packages/tensorflow/python/framework/op_def_library.py:263: colocate_with (from tensorflow.python.framework.ops) is deprecated and will be removed in a future version.\n",
            "Instructions for updating:\n",
            "Colocations handled automatically by placer.\n"
          ],
          "name": "stdout"
        }
      ]
    },
    {
      "metadata": {
        "id": "4tugV5mGglm6",
        "colab_type": "code",
        "outputId": "b4942454-2bc4-4044-d96b-a8e3bbcc357c",
        "colab": {
          "base_uri": "https://localhost:8080/",
          "height": 179
        }
      },
      "cell_type": "code",
      "source": [
        "#Output1\n",
        "out1_1 = tf.nn.conv2d(x, weights['w1'], strides=[1, 2, 2, 1], padding='SAME')\n",
        "out1 = tf.nn.bias_add(out1_1, biases['b1'])\n",
        "\n",
        "#Output2\n",
        "out2_1 = tf.nn.leaky_relu(out1, alpha=0.2)\n",
        "out2_2 = tf.nn.conv2d(out2_1, weights['w2'], strides=[1, 2, 2, 1], padding='SAME')\n",
        "out2_3 = tf.nn.bias_add(out2_2, biases['b2'])\n",
        "out2_4 = tf.layers.batch_normalization(out2_3,training=is_training)\n",
        "out2 = tf.nn.dropout(out2_4, keep_prob)\n",
        "\n",
        "#Output2b\n",
        "out2b_1 = tf.nn.leaky_relu(out2, alpha=0.2)\n",
        "out2b_2 = tf.nn.conv2d(out2b_1, weights['w2b'], strides=[1, 2, 2, 1], padding='SAME')\n",
        "out2b_3 = tf.nn.bias_add(out2b_2, biases['b2b'])\n",
        "out2b_4 = tf.layers.batch_normalization(out2b_3,training=is_training)\n",
        "out2b = tf.nn.dropout(out2b_4, keep_prob)\n",
        "\n",
        "#Output3\n",
        "out3_1 = tf.nn.leaky_relu(out2b, alpha=0.2)\n",
        "out3_2 = tf.nn.conv2d(out3_1, weights['w3'], strides=[1, 2, 2, 1], padding='SAME')\n",
        "out3_3 = tf.nn.bias_add(out3_2, biases['b3'])\n",
        "out3_4 = tf.layers.batch_normalization(out3_3,training=is_training)\n",
        "out3 = tf.nn.dropout(out3_4, keep_prob)\n",
        "\n",
        "#Output4\n",
        "out4_1 = tf.nn.leaky_relu(out3, alpha=0.2)\n",
        "out4_2 = tf.nn.conv2d(out4_1, weights['w4'], strides=[1, 2, 2, 1], padding='SAME')\n",
        "out4_3 = tf.nn.bias_add(out4_2, biases['b4'])\n",
        "out4_4 = tf.layers.batch_normalization(out4_3,training=is_training)\n",
        "out4 = tf.nn.dropout(out4_4, keep_prob)\n",
        "\n",
        "#Output5\n",
        "out5_1 = tf.nn.leaky_relu(out4, alpha=0.2)\n",
        "out5_2 = tf.nn.conv2d(out5_1, weights['w5'], strides=[1, 2, 2, 1], padding='SAME')\n",
        "out5_3 = tf.nn.bias_add(out5_2, biases['b5'])\n",
        "out5_4 = tf.layers.batch_normalization(out5_3,training=is_training)\n",
        "out5 = tf.nn.dropout(out5_4, keep_prob)\n",
        "\n",
        "#Output6\n",
        "out6_1 = tf.nn.leaky_relu(out5, alpha=0.2)\n",
        "out6_2 = tf.nn.conv2d(out6_1, weights['w6'], strides=[1, 2, 2, 1], padding='SAME')\n",
        "out6_3 = tf.nn.bias_add(out6_2, biases['b6'])\n",
        "out6 = tf.nn.dropout(out6_3, keep_prob)\n",
        "\n",
        "#Deconvolutional Output 6\n",
        "dout6_1 = tf.nn.relu(out6)\n",
        "dout6_2 = tf.image.resize_bilinear(dout6_1, [2,2])\n",
        "dout6_3 = tf.nn.conv2d(dout6_2, weights['dw6'], strides=[1, 1, 1, 1], padding='SAME')\n",
        "dout6_4 = tf.nn.bias_add(dout6_3, biases['db6'])\n",
        "dout6_5 = tf.layers.batch_normalization(dout6_4,training=is_training)\n",
        "dout6 = tf.nn.dropout(dout6_5, keep_prob)\n",
        "#Concat dout6 and out5\n",
        "dout6_out5 = tf.concat([dout6,out5], axis = 3)\n",
        "\n",
        "#Deconvolutional Output 5\n",
        "dout5_1 = tf.nn.relu(dout6_out5)\n",
        "dout5_2 = tf.image.resize_bilinear(dout5_1, [4,4])\n",
        "dout5_3 = tf.nn.conv2d(dout5_2, weights['dw5'], strides=[1, 1, 1, 1], padding='SAME')\n",
        "dout5_4 = tf.nn.bias_add(dout5_3, biases['db5'])\n",
        "dout5_5 = tf.layers.batch_normalization(dout5_4,training=is_training)\n",
        "dout5 = tf.nn.dropout(dout5_5, keep_prob)\n",
        "#Concat dout5 and out4\n",
        "dout5_out4 = tf.concat([dout5,out4], axis = 3)\n",
        "\n",
        "#Deconvolutional Output 4\n",
        "dout4_1 = tf.nn.relu(dout5_out4)\n",
        "dout4_2 = tf.image.resize_bilinear(dout4_1, [8,8])\n",
        "dout4_3 = tf.nn.conv2d(dout4_2, weights['dw4'], strides=[1, 1, 1, 1], padding='SAME')\n",
        "dout4_4 = tf.nn.bias_add(dout4_3, biases['db4'])\n",
        "dout4_5 = tf.layers.batch_normalization(dout4_4,training=is_training)\n",
        "dout4 = tf.nn.dropout(dout4_5, keep_prob)\n",
        "#Concat dout4 and out3\n",
        "dout4_out3 = tf.concat([dout4,out3], axis = 3)\n",
        "\n",
        "#Deconvolutional Output 3\n",
        "dout3_1 = tf.nn.relu(dout4_out3)\n",
        "dout3_2 = tf.image.resize_bilinear(dout3_1, [16,16])\n",
        "dout3_3 = tf.nn.conv2d(dout3_2, weights['dw3'], strides=[1, 1, 1, 1], padding='SAME')\n",
        "dout3_4 = tf.nn.bias_add(dout3_3, biases['db3'])\n",
        "dout3_5 = tf.layers.batch_normalization(dout3_4,training=is_training)\n",
        "dout3 = tf.nn.dropout(dout3_5, keep_prob)\n",
        "#Concat dout3 and out2b\n",
        "dout3_out2b = tf.concat([dout3,out2b], axis = 3)\n",
        "\n",
        "#Deconvolutional Output 2b\n",
        "dout2b_1 = tf.nn.relu(dout3_out2b)\n",
        "dout2b_2 = tf.image.resize_bilinear(dout2b_1, [32,32])\n",
        "dout2b_3 = tf.nn.conv2d(dout2b_2, weights['dw2b'], strides=[1, 1, 1, 1], padding='SAME')\n",
        "dout2b_4 = tf.nn.bias_add(dout2b_3, biases['db2b'])\n",
        "dout2b_5 = tf.layers.batch_normalization(dout2b_4,training=is_training)\n",
        "dout2b = tf.nn.dropout(dout2b_5, keep_prob)\n",
        "#Concat dout2b and out2\n",
        "dout2b_out2 = tf.concat([dout2b,out2], axis = 3)\n",
        "\n",
        "#Deconvolutional Output 2\n",
        "dout2_1 = tf.nn.relu(dout2b_out2)\n",
        "dout2_2 = tf.image.resize_bilinear(dout2_1, [64,64])\n",
        "dout2_3 = tf.nn.conv2d(dout2_2, weights['dw2'], strides=[1, 1, 1, 1], padding='SAME')\n",
        "dout2_4 = tf.nn.bias_add(dout2_3, biases['db2'])\n",
        "dout2_5 = tf.layers.batch_normalization(dout2_4,training=is_training)\n",
        "dout2 = tf.nn.dropout(dout2_5, keep_prob)\n",
        "#Concat dout2 and out1\n",
        "dout2_out1 = tf.concat([dout2,out1], axis = 3)\n",
        "\n",
        "#Deconvolutional Output 1\n",
        "dout1_1 = tf.nn.relu(dout2_out1)\n",
        "dout1_2 = tf.nn.conv2d_transpose(dout1_1, weights['dw1'], [batch_size,128, 128, 3], [1,2,2,1], padding='SAME')\n",
        "dout1 = tf.nn.bias_add(dout1_2, biases['db1'])"
      ],
      "execution_count": 12,
      "outputs": [
        {
          "output_type": "stream",
          "text": [
            "WARNING:tensorflow:From <ipython-input-12-4b5d762dab47>:8: batch_normalization (from tensorflow.python.layers.normalization) is deprecated and will be removed in a future version.\n",
            "Instructions for updating:\n",
            "Use keras.layers.batch_normalization instead.\n",
            "WARNING:tensorflow:From <ipython-input-12-4b5d762dab47>:9: calling dropout (from tensorflow.python.ops.nn_ops) with keep_prob is deprecated and will be removed in a future version.\n",
            "Instructions for updating:\n",
            "Please use `rate` instead of `keep_prob`. Rate should be set to `rate = 1 - keep_prob`.\n"
          ],
          "name": "stdout"
        }
      ]
    },
    {
      "metadata": {
        "colab_type": "code",
        "outputId": "f9a774c9-7494-41af-cc4f-d85762c69429",
        "id": "QJhb_FPZ6AHy",
        "colab": {
          "base_uri": "https://localhost:8080/",
          "height": 34
        }
      },
      "cell_type": "code",
      "source": [
        "dout1.shape"
      ],
      "execution_count": 13,
      "outputs": [
        {
          "output_type": "execute_result",
          "data": {
            "text/plain": [
              "TensorShape([Dimension(10), Dimension(128), Dimension(128), Dimension(3)])"
            ]
          },
          "metadata": {
            "tags": []
          },
          "execution_count": 13
        }
      ]
    },
    {
      "metadata": {
        "id": "mStk89WeXD1T",
        "colab_type": "code",
        "outputId": "d762de3e-22e0-45e6-d2c6-e872fbaa127e",
        "colab": {
          "base_uri": "https://localhost:8080/",
          "height": 128
        }
      },
      "cell_type": "code",
      "source": [
        "loss = tf.losses.sigmoid_cross_entropy(y, dout1)\n",
        "optimizer = tf.train.AdamOptimizer(learning_rate = lr, beta1=0.5, beta2=0.999).minimize(loss)"
      ],
      "execution_count": 14,
      "outputs": [
        {
          "output_type": "stream",
          "text": [
            "WARNING:tensorflow:From /usr/local/lib/python3.6/dist-packages/tensorflow/python/ops/losses/losses_impl.py:209: to_float (from tensorflow.python.ops.math_ops) is deprecated and will be removed in a future version.\n",
            "Instructions for updating:\n",
            "Use tf.cast instead.\n"
          ],
          "name": "stdout"
        }
      ]
    },
    {
      "metadata": {
        "id": "2wXz2mi4QcgI",
        "colab_type": "code",
        "outputId": "02dbbec5-5088-4729-bd6b-4a69b3386dd2",
        "colab": {
          "base_uri": "https://localhost:8080/",
          "height": 1649
        }
      },
      "cell_type": "code",
      "source": [
        "# init\n",
        "\n",
        "saver = tf.train.Saver()\n",
        "init = tf.global_variables_initializer()\n",
        "\n",
        "loss_array = np.zeros(training_iters)\n",
        "\n",
        "with tf.Session() as sess:\n",
        "  \n",
        "  sess.run(init)\n",
        "  \n",
        "  for i in range(training_iters):\n",
        "    \n",
        "    for batch in range(len(train_x_norm)//batch_size):\n",
        "      \n",
        "      batch_x = train_x_norm[batch*batch_size:min((batch+1)*batch_size,len(train_x_norm))]\n",
        "      batch_y = train_y_norm[batch*batch_size:min((batch+1)*batch_size,len(train_y_norm))]\n",
        "      \n",
        "      feed_dict = {x: batch_x, y: batch_y, lr: 0.0004, keep_prob: 0.99, is_training: True}\n",
        "      loss_value, _ = sess.run([loss, optimizer], feed_dict=feed_dict)\n",
        "    \n",
        "    loss_array[i] = loss_value\n",
        "    \n",
        "    print(\"Epoch no: \", i, \" Cost: \", loss_value)\n",
        "    \n",
        "    if i%200 == 0:\n",
        "      \n",
        "      saver.save(sess, 'gdrive/My Drive/Google Colab/saved_models/my_model', global_step = i, write_meta_graph=False)\n",
        "      \n",
        "      plt.plot(loss_array)\n",
        "      plt.xlabel('No of Iterations')\n",
        "      plt.ylabel('Loss')"
      ],
      "execution_count": 0,
      "outputs": [
        {
          "output_type": "stream",
          "text": [
            "Epoch no:  0  Cost:  0.67380154\n",
            "Epoch no:  1  Cost:  0.6732178\n",
            "Epoch no:  2  Cost:  0.6728545\n",
            "Epoch no:  3  Cost:  0.672679\n",
            "Epoch no:  4  Cost:  0.67251724\n",
            "Epoch no:  5  Cost:  0.6724219\n",
            "Epoch no:  6  Cost:  0.672326\n",
            "Epoch no:  7  Cost:  0.67225146\n",
            "Epoch no:  8  Cost:  0.6722309\n",
            "Epoch no:  9  Cost:  0.6721074\n",
            "Epoch no:  10  Cost:  0.67211366\n",
            "Epoch no:  11  Cost:  0.67206675\n",
            "Epoch no:  12  Cost:  0.672013\n",
            "Epoch no:  13  Cost:  0.6719229\n",
            "Epoch no:  14  Cost:  0.6718901\n",
            "Epoch no:  15  Cost:  0.67192906\n",
            "Epoch no:  16  Cost:  0.67188\n",
            "Epoch no:  17  Cost:  0.6718234\n",
            "Epoch no:  18  Cost:  0.6718037\n",
            "Epoch no:  19  Cost:  0.6718234\n",
            "Epoch no:  20  Cost:  0.6716986\n",
            "Epoch no:  21  Cost:  0.6717941\n",
            "Epoch no:  22  Cost:  0.67170894\n",
            "Epoch no:  23  Cost:  0.67189336\n",
            "Epoch no:  24  Cost:  0.6717055\n",
            "Epoch no:  25  Cost:  0.67168266\n",
            "Epoch no:  26  Cost:  0.67171645\n",
            "Epoch no:  27  Cost:  0.67184716\n",
            "Epoch no:  28  Cost:  0.6716141\n",
            "Epoch no:  29  Cost:  0.6715939\n",
            "Epoch no:  30  Cost:  0.67174757\n",
            "Epoch no:  31  Cost:  0.6717063\n",
            "Epoch no:  32  Cost:  0.67167556\n",
            "Epoch no:  33  Cost:  0.6715754\n",
            "Epoch no:  34  Cost:  0.6715977\n",
            "Epoch no:  35  Cost:  0.67166805\n",
            "Epoch no:  36  Cost:  0.67157453\n",
            "Epoch no:  37  Cost:  0.6717529\n",
            "Epoch no:  38  Cost:  0.671573\n",
            "Epoch no:  39  Cost:  0.671573\n",
            "Epoch no:  40  Cost:  0.6716754\n",
            "Epoch no:  41  Cost:  0.67156285\n",
            "Epoch no:  42  Cost:  0.67148614\n",
            "Epoch no:  43  Cost:  0.6717948\n",
            "Epoch no:  44  Cost:  0.6715771\n",
            "Epoch no:  45  Cost:  0.67145276\n",
            "Epoch no:  46  Cost:  0.6714754\n",
            "Epoch no:  47  Cost:  0.6714389\n",
            "Epoch no:  48  Cost:  0.6713957\n",
            "Epoch no:  49  Cost:  0.6714612\n",
            "Epoch no:  50  Cost:  0.6713885\n",
            "Epoch no:  51  Cost:  0.67138916\n",
            "Epoch no:  52  Cost:  0.6714428\n",
            "Epoch no:  53  Cost:  0.6713831\n",
            "Epoch no:  54  Cost:  0.6714218\n",
            "Epoch no:  55  Cost:  0.6713423\n",
            "Epoch no:  56  Cost:  0.67138284\n",
            "Epoch no:  57  Cost:  0.67131287\n",
            "Epoch no:  58  Cost:  0.67128074\n",
            "Epoch no:  59  Cost:  0.6713025\n",
            "Epoch no:  60  Cost:  0.67148274\n",
            "Epoch no:  61  Cost:  0.671278\n",
            "Epoch no:  62  Cost:  0.6712677\n",
            "Epoch no:  63  Cost:  0.671255\n",
            "Epoch no:  64  Cost:  0.6712378\n",
            "Epoch no:  65  Cost:  0.6712541\n",
            "Epoch no:  66  Cost:  0.67124695\n",
            "Epoch no:  67  Cost:  0.67127293\n",
            "Epoch no:  68  Cost:  0.6712691\n",
            "Epoch no:  69  Cost:  0.67122525\n",
            "Epoch no:  70  Cost:  0.6712068\n",
            "Epoch no:  71  Cost:  0.6712114\n",
            "Epoch no:  72  Cost:  0.67120796\n",
            "Epoch no:  73  Cost:  0.6712035\n",
            "Epoch no:  74  Cost:  0.6711991\n",
            "Epoch no:  75  Cost:  0.6712216\n",
            "Epoch no:  76  Cost:  0.6711857\n",
            "Epoch no:  77  Cost:  0.6711724\n",
            "Epoch no:  78  Cost:  0.6712115\n",
            "Epoch no:  79  Cost:  0.6712081\n",
            "Epoch no:  80  Cost:  0.67119277\n",
            "Epoch no:  81  Cost:  0.67117506\n",
            "Epoch no:  82  Cost:  0.67117256\n",
            "Epoch no:  83  Cost:  0.67121303\n",
            "Epoch no:  84  Cost:  0.67120636\n",
            "Epoch no:  85  Cost:  0.6711904\n",
            "Epoch no:  86  Cost:  0.67121786\n",
            "Epoch no:  87  Cost:  0.6712076\n",
            "Epoch no:  88  Cost:  0.67118734\n",
            "Epoch no:  89  Cost:  0.6712068\n",
            "Epoch no:  90  Cost:  0.6711789\n",
            "Epoch no:  91  Cost:  0.67117447\n",
            "Epoch no:  92  Cost:  0.6713073\n",
            "Epoch no:  93  Cost:  0.6711849\n",
            "Epoch no:  94  Cost:  0.6711842\n",
            "Epoch no:  95  Cost:  0.67117286\n"
          ],
          "name": "stdout"
        }
      ]
    },
    {
      "metadata": {
        "id": "NBzM1wOcjnPr",
        "colab_type": "code",
        "colab": {}
      },
      "cell_type": "code",
      "source": [
        "#relative error\n",
        "test_x_norm = (test_x - train_x_min)/(train_x_max - train_x_min)\n",
        "test_y_norm = (test_y - train_y_min)/(train_y_max - train_y_min)\n",
        "#create 2 new arrays matching test_y\n",
        "test_y_hat = np.zeros_like(test_y_norm)\n",
        "test_y_abs_error = np.zeros_like(test_y_norm)\n",
        "#first array is for predicted values test_y_hat\n",
        "with tf.Session() as sess:\n",
        "  sess.run(init)\n",
        "  test_y_hat = sess.run([deconv7], feed_dict={x: test_x_norm})\n",
        "#second arrays if for absolute difference between target value and prediction test_y_abs_error\n",
        "test_y_abs_error = np.abs(test_y_norm-test_y_hat)\n",
        "# precentage loss by ratio of means which is same as the ratio of the sum\n",
        "loss_per = np.sum(test_y_abs_error)/np.sum(np.abs(test_y_norm))\n",
        "\n"
      ],
      "execution_count": 0,
      "outputs": []
    },
    {
      "metadata": {
        "id": "n71nPTYtPvs-",
        "colab_type": "code",
        "colab": {}
      },
      "cell_type": "code",
      "source": [
        "with tf.Session() as sess:\n",
        "  \n",
        "  saver.restore(sess, 'gdrive/My Drive/Google Colab/saved_models/my_model-1000')\n",
        "  \n",
        "  for batch in range(len(test_x_norm)//batch_size):\n",
        "      \n",
        "      batch_x = test_x_norm[batch*batch_size:min((batch+1)*batch_size,len(test_x_norm))]\n",
        "      test_y_hat[batch*batch_size:min((batch+1)*batch_size,len(test_x_norm))] = sess.run([dout1], feed_dict={x: batch_x, is_training: False, keep_prob: 1})\n",
        "  \n",
        "from numpy import array\n",
        "test_y_hat = array(test_y_hat)\n",
        "test_y_hat = np.squeeze(test_y_hat)\n",
        "  \n",
        "#second arrays if for absolute difference between target value and prediction test_y_abs_error\n",
        "test_y_abs_error = np.abs(test_y_norm-test_y_hat)\n",
        "\n",
        "# percentage loss by ratio of means which is same as the ratio of the sum\n",
        "loss_per = np.sum(test_y_abs_error)/np.sum(np.abs(test_y_norm))\n",
        "  "
      ],
      "execution_count": 0,
      "outputs": []
    },
    {
      "metadata": {
        "id": "VN0v5o3oQNz6",
        "colab_type": "code",
        "colab": {}
      },
      "cell_type": "code",
      "source": [
        "imshow(test_y_norm[10,:,:,1])"
      ],
      "execution_count": 0,
      "outputs": []
    },
    {
      "metadata": {
        "id": "5x61plQHQOm6",
        "colab_type": "code",
        "colab": {}
      },
      "cell_type": "code",
      "source": [
        "imshow(test_y_hat[10,:,:,1])"
      ],
      "execution_count": 0,
      "outputs": []
    },
    {
      "metadata": {
        "id": "LHjUtszQQQgL",
        "colab_type": "code",
        "colab": {}
      },
      "cell_type": "code",
      "source": [
        "imshow(test_y_abs_error[10,:,:,1])"
      ],
      "execution_count": 0,
      "outputs": []
    }
  ]
}